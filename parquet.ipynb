{
 "cells": [
  {
   "cell_type": "code",
   "execution_count": 13,
   "metadata": {},
   "outputs": [],
   "source": [
    "import pyarrow.parquet as pq\n",
    "import pandas as pd\n",
    "import numpy as np\n",
    "import duckdb\n",
    "import sqlalchemy"
   ]
  },
  {
   "cell_type": "code",
   "execution_count": 14,
   "metadata": {},
   "outputs": [
    {
     "name": "stderr",
     "output_type": "stream",
     "text": [
      "c:\\Users\\banderson\\Repos\\duckdb-demo\\venv\\lib\\site-packages\\IPython\\core\\interactiveshell.py:3135: UserWarning: Config option `displaycon` not recognized by `SqlMagic`.  Did you mean `displaylimit`?\n",
      "  has_raised = await self.run_ast_nodes(code_ast.body, cell_name,\n"
     ]
    }
   ],
   "source": [
    "%load_ext sql\n",
    "\n",
    "%config SqlMagic.autopandas = True\n",
    "%config SqlMagic.feedback = False\n",
    "%config SqlMagic.displaycon = False"
   ]
  },
  {
   "cell_type": "code",
   "execution_count": 15,
   "metadata": {},
   "outputs": [
    {
     "data": {
      "text/plain": [
       "'Connected: @:memory:'"
      ]
     },
     "execution_count": 15,
     "metadata": {},
     "output_type": "execute_result"
    }
   ],
   "source": [
    "%sql duckdb:///:memory:"
   ]
  },
  {
   "cell_type": "code",
   "execution_count": 25,
   "metadata": {
    "vscode": {
     "languageId": "sql"
    }
   },
   "outputs": [
    {
     "name": "stdout",
     "output_type": "stream",
     "text": [
      " * duckdb:///:memory:\n"
     ]
    },
    {
     "data": {
      "text/html": [
       "<div>\n",
       "<style scoped>\n",
       "    .dataframe tbody tr th:only-of-type {\n",
       "        vertical-align: middle;\n",
       "    }\n",
       "\n",
       "    .dataframe tbody tr th {\n",
       "        vertical-align: top;\n",
       "    }\n",
       "\n",
       "    .dataframe thead th {\n",
       "        text-align: right;\n",
       "    }\n",
       "</style>\n",
       "<table border=\"1\" class=\"dataframe\">\n",
       "  <thead>\n",
       "    <tr style=\"text-align: right;\">\n",
       "      <th></th>\n",
       "      <th>VendorID</th>\n",
       "      <th>Cnt</th>\n",
       "      <th>AvgDist</th>\n",
       "      <th>TotalTip</th>\n",
       "    </tr>\n",
       "  </thead>\n",
       "  <tbody>\n",
       "    <tr>\n",
       "      <th>0</th>\n",
       "      <td>1</td>\n",
       "      <td>422337</td>\n",
       "      <td>2.483790</td>\n",
       "      <td>7.922043e+05</td>\n",
       "    </tr>\n",
       "    <tr>\n",
       "      <th>1</th>\n",
       "      <td>2</td>\n",
       "      <td>937141</td>\n",
       "      <td>5.572211</td>\n",
       "      <td>1.835102e+06</td>\n",
       "    </tr>\n",
       "    <tr>\n",
       "      <th>2</th>\n",
       "      <td>6</td>\n",
       "      <td>10291</td>\n",
       "      <td>7.171585</td>\n",
       "      <td>4.407000e+01</td>\n",
       "    </tr>\n",
       "  </tbody>\n",
       "</table>\n",
       "</div>"
      ],
      "text/plain": [
       "   VendorID     Cnt   AvgDist      TotalTip\n",
       "0         1  422337  2.483790  7.922043e+05\n",
       "1         2  937141  5.572211  1.835102e+06\n",
       "2         6   10291  7.171585  4.407000e+01"
      ]
     },
     "execution_count": 25,
     "metadata": {},
     "output_type": "execute_result"
    }
   ],
   "source": [
    "%%sql\n",
    "SELECT VendorID, COUNT(*) as Cnt, AVG(Trip_distance) as AvgDist, SUM(tip_amount) as TotalTip\n",
    "FROM read_parquet('data/yellow_tripdata_2021-01.parquet')\n",
    "GROUP BY VendorID"
   ]
  },
  {
   "cell_type": "code",
   "execution_count": 33,
   "metadata": {
    "vscode": {
     "languageId": "sql"
    }
   },
   "outputs": [
    {
     "name": "stdout",
     "output_type": "stream",
     "text": [
      " * duckdb:///:memory:\n"
     ]
    },
    {
     "data": {
      "text/html": [
       "<div>\n",
       "<style scoped>\n",
       "    .dataframe tbody tr th:only-of-type {\n",
       "        vertical-align: middle;\n",
       "    }\n",
       "\n",
       "    .dataframe tbody tr th {\n",
       "        vertical-align: top;\n",
       "    }\n",
       "\n",
       "    .dataframe thead th {\n",
       "        text-align: right;\n",
       "    }\n",
       "</style>\n",
       "<table border=\"1\" class=\"dataframe\">\n",
       "  <thead>\n",
       "    <tr style=\"text-align: right;\">\n",
       "      <th></th>\n",
       "      <th>VendorID</th>\n",
       "      <th>Cnt</th>\n",
       "      <th>AvgDist</th>\n",
       "      <th>TotalTip</th>\n",
       "    </tr>\n",
       "  </thead>\n",
       "  <tbody>\n",
       "    <tr>\n",
       "      <th>0</th>\n",
       "      <td>1</td>\n",
       "      <td>15468</td>\n",
       "      <td>1.720526</td>\n",
       "      <td>24507.84</td>\n",
       "    </tr>\n",
       "    <tr>\n",
       "      <th>1</th>\n",
       "      <td>2</td>\n",
       "      <td>163609</td>\n",
       "      <td>1.776775</td>\n",
       "      <td>280865.86</td>\n",
       "    </tr>\n",
       "  </tbody>\n",
       "</table>\n",
       "</div>"
      ],
      "text/plain": [
       "   VendorID     Cnt   AvgDist   TotalTip\n",
       "0         1   15468  1.720526   24507.84\n",
       "1         2  163609  1.776775  280865.86"
      ]
     },
     "execution_count": 33,
     "metadata": {},
     "output_type": "execute_result"
    }
   ],
   "source": [
    "%%sql\n",
    "WITH T2 AS\n",
    "(SELECT PULocationID, COUNT(*) as Cnt\n",
    "FROM    read_parquet('data/yellow_tripdata_2021-01.parquet')\n",
    "GROUP BY PULocationID\n",
    "HAVING COUNT(*) >= 3\n",
    "),\n",
    "T3 AS \n",
    "(SELECT DOLocationID, COUNT(*) as Cnt\n",
    "FROM    read_parquet('data/yellow_tripdata_2021-01.parquet')\n",
    "GROUP BY DOLocationID\n",
    "HAVING COUNT(*) >= 3\n",
    ")\n",
    "SELECT VendorID, COUNT(*) as Cnt, AVG(Trip_distance) as AvgDist, SUM(tip_amount) as TotalTip\n",
    "  FROM read_parquet('data/yellow_tripdata_2021-01.parquet')    T1\n",
    "  JOIN  T2 ON T1.PULocationID = T2.PULocationID\n",
    "  LEFT JOIN T3 ON T1.PULocationID = T3.DOLocationID\n",
    "                OR T1.DOLocationID = T3.DOLocationID\n",
    "  WHERE DAY(tpep_pickup_datetime) <> 8\n",
    "    AND passenger_count >= 3\n",
    "    AND store_and_fwd_flag = 'N'\n",
    "    and fare_amount > 0\n",
    "    AND mta_tax / fare_amount > .03\n",
    "    AND DATEDIFF('Minute', tpep_pickup_datetime, tpep_dropoff_datetime) > 2\n",
    "  GROUP BY VendorID\n",
    "  HAVING SUM(tip_amount) > 1;"
   ]
  },
  {
   "cell_type": "code",
   "execution_count": null,
   "metadata": {
    "vscode": {
     "languageId": "sql"
    }
   },
   "outputs": [],
   "source": [
    "%%sql\n",
    "CREATE TABLE \n",
    "\n"
   ]
  },
  {
   "cell_type": "code",
   "execution_count": 34,
   "metadata": {
    "vscode": {
     "languageId": "sql"
    }
   },
   "outputs": [
    {
     "name": "stdout",
     "output_type": "stream",
     "text": [
      " * duckdb:///:memory:\n",
      "(duckdb.ParserException) Parser Error: SELECT INTO not supported!\n",
      "[SQL: SELECT *\n",
      "INTO test\n",
      "FROM read_csv_auto('data/yellow_tripdata_2021-01.csv')\n",
      "LIMIT 10;]\n",
      "(Background on this error at: https://sqlalche.me/e/14/f405)\n"
     ]
    }
   ],
   "source": [
    "%%sql\n",
    "SELECT *\n",
    "INTO test\n",
    "FROM read_csv_auto('data/yellow_tripdata_2021-01.csv')\n",
    "LIMIT 10;"
   ]
  },
  {
   "cell_type": "code",
   "execution_count": 3,
   "metadata": {},
   "outputs": [],
   "source": [
    "%timeit\n",
    "df_pqt = pd.read_parquet('data/yellow_tripdata_2021-01.parquet')"
   ]
  },
  {
   "cell_type": "code",
   "execution_count": 4,
   "metadata": {},
   "outputs": [
    {
     "name": "stderr",
     "output_type": "stream",
     "text": [
      "C:\\Users\\banderson\\AppData\\Local\\Temp\\ipykernel_20408\\3903399185.py:2: DtypeWarning: Columns (6) have mixed types. Specify dtype option on import or set low_memory=False.\n",
      "  df_csv = pd.read_csv('data/yellow_tripdata_2021-01.csv')\n"
     ]
    }
   ],
   "source": [
    "%timeit\n",
    "df_csv = pd.read_csv('data/yellow_tripdata_2021-01.csv')"
   ]
  },
  {
   "cell_type": "markdown",
   "metadata": {},
   "source": [
    "Lots of SQL Magic \n",
    "\n",
    "https://ipython.readthedocs.io/en/stable/interactive/magics.html"
   ]
  },
  {
   "cell_type": "markdown",
   "metadata": {},
   "source": [
    "Data from [NYC Taxi Data](https://www1.nyc.gov/site/tlc/about/tlc-trip-record-data.page)"
   ]
  }
 ],
 "metadata": {
  "kernelspec": {
   "display_name": "Python 3.9.7",
   "language": "python",
   "name": "python3"
  },
  "language_info": {
   "codemirror_mode": {
    "name": "ipython",
    "version": 3
   },
   "file_extension": ".py",
   "mimetype": "text/x-python",
   "name": "python",
   "nbconvert_exporter": "python",
   "pygments_lexer": "ipython3",
   "version": "3.9.7"
  },
  "orig_nbformat": 4,
  "vscode": {
   "interpreter": {
    "hash": "85eb81739e91a81d5cfca890d95afee8f7cb5657570f7ba57cc90e6622b72a1a"
   }
  }
 },
 "nbformat": 4,
 "nbformat_minor": 2
}
